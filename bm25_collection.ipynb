{
 "cells": [
  {
   "cell_type": "markdown",
   "metadata": {},
   "source": [
    "### Module"
   ]
  },
  {
   "cell_type": "code",
   "execution_count": 66,
   "metadata": {},
   "outputs": [],
   "source": [
    "import pandas as pd\n",
    "import pickle\n",
    "from tqdm import tqdm\n",
    "import pickle\n",
    "import numpy as np\n",
    "import json\n",
    "import random\n",
    "\n",
    "from pymilvus.model.sparse.bm25.tokenizers import build_default_analyzer\n",
    "from pymilvus.model.sparse import BM25EmbeddingFunction\n",
    "from sklearn.metrics.pairwise import cosine_similarity\n",
    "from pymilvus import model\n",
    "from pymilvus import MilvusClient, Collection, connections, DataType, CollectionSchema, FieldSchema\n",
    "from pymilvus.model.reranker import BGERerankFunction\n",
    "from pymilvus import MilvusClient"
   ]
  },
  {
   "cell_type": "markdown",
   "metadata": {},
   "source": [
    "### DataLoad"
   ]
  },
  {
   "cell_type": "code",
   "execution_count": 47,
   "metadata": {},
   "outputs": [],
   "source": [
    "# msmarco dev셋 load\n",
    "msmarco_dev = pd.read_csv(\"./data/top1000_dev.tsv\", sep='\\t', names=['qid', 'pid', 'query', 'passage'])\n",
    "\n",
    "# Passage 추출 (중복된 Passage는 제거)\n",
    "msmarco_dev_passages = msmarco_dev[\"passage\"].unique().tolist()\n",
    "\n",
    "# Pid 추출 (중복된 Pid는 제거)\n",
    "msmarco_dev_pids = msmarco_dev[\"pid\"].unique().tolist()\n",
    "\n",
    "# BM25 모델을 활용한 passage들의 imbedding 불러오기\n",
    "with open(\"./files/bm25_docs_embeddings.pickle\", \"rb\") as handle:\n",
    "    docs_embeddings = pickle.load(handle)"
   ]
  },
  {
   "cell_type": "markdown",
   "metadata": {},
   "source": [
    "### collection 생성"
   ]
  },
  {
   "cell_type": "code",
   "execution_count": 8,
   "metadata": {},
   "outputs": [],
   "source": [
    "# 클라이언트 연결\n",
    "client = MilvusClient()"
   ]
  },
  {
   "cell_type": "code",
   "execution_count": 4,
   "metadata": {},
   "outputs": [],
   "source": [
    "# 필드 스키마 정의\n",
    "pid_field = FieldSchema(name=\"pid\", dtype=DataType.INT64, is_primary=True, description=\"Passage ID\")\n",
    "text_field = FieldSchema(name=\"text\", dtype=DataType.VARCHAR, max_length=2048, description=\"Passage Text\")\n",
    "sparse_vector_field = FieldSchema(name=\"sparse_vector\", dtype=DataType.SPARSE_FLOAT_VECTOR, description=\"Sparse Embedding Vector\")"
   ]
  },
  {
   "cell_type": "code",
   "execution_count": 6,
   "metadata": {},
   "outputs": [],
   "source": [
    "# 컬렉션 스키마 생성\n",
    "schema = CollectionSchema(fields=[pid_field, text_field, sparse_vector_field], description=\"MSMARCO Dataset BM25 Embedding Collection\")"
   ]
  },
  {
   "cell_type": "code",
   "execution_count": 9,
   "metadata": {},
   "outputs": [],
   "source": [
    "# 컬렉션 생성\n",
    "collection_name = \"msmarco_bm25\"\n",
    "client.create_collection(collection_name=collection_name, schema=schema)"
   ]
  },
  {
   "cell_type": "markdown",
   "metadata": {},
   "source": [
    "### BM25 embedding"
   ]
  },
  {
   "cell_type": "code",
   "execution_count": 13,
   "metadata": {},
   "outputs": [],
   "source": [
    "# BM25 모델 Load\n",
    "def get_bm25_model(model_path:str = \"./files/bm25_msmarco_v1.json\",\n",
    "                   analyzer_language:str = \"en\"):\n",
    "    analyzer = build_default_analyzer(language=analyzer_language)\n",
    "    bm25_ef = BM25EmbeddingFunction(analyzer)\n",
    "    bm25_ef.load(model_path)\n",
    "    return bm25_ef\n",
    "\n",
    "bm25_ef = get_bm25_model()"
   ]
  },
  {
   "cell_type": "code",
   "execution_count": 62,
   "metadata": {},
   "outputs": [
    {
     "data": {
      "text/plain": [
       "38.95239"
      ]
     },
     "execution_count": 62,
     "metadata": {},
     "output_type": "execute_result"
    }
   ],
   "source": [
    "len(msmarco_dev_pids)/100000"
   ]
  },
  {
   "cell_type": "code",
   "execution_count": null,
   "metadata": {},
   "outputs": [],
   "source": [
    "cnt = 0\n",
    "entities = []\n",
    "for pid, passage, sparse_vector in zip(msmarco_dev_pids, msmarco_dev_passages, docs_embeddings):\n",
    "    entity = {\n",
    "        \"pid\": pid,\n",
    "        \"text\": passage,\n",
    "        \"sparse_vector\": sparse_vector\n",
    "        }\n",
    "    entities.append(entity)\n",
    "    client.insert(\n",
    "    collection_name=\"msmarco_bm25\",\n",
    "    entities=entities\n",
    ")\n",
    "    cnt+=1\n",
    "    if cnt%1000000 == 0:\n",
    "        print(cnt)"
   ]
  },
  {
   "cell_type": "markdown",
   "metadata": {},
   "source": [
    "### Insert"
   ]
  },
  {
   "cell_type": "code",
   "execution_count": null,
   "metadata": {},
   "outputs": [],
   "source": [
    "# start_index = 0\n",
    "# batch_size = 1000\n",
    "\n",
    "# # insert 제한량으로 인한 batch성 주입\n",
    "# while start_index <= len(entities):\n",
    "#     entities_batch = entities[start_index : start_index+batch_size]\n",
    "#     client.insert(\n",
    "#         collection_name=\"msmarco_bm25\",\n",
    "#         data=entities_batch\n",
    "#     )\n",
    "#     start_index += batch_size\n",
    "\n",
    "# # 마지막 batch에서 입력되지 않은 값들 주입\n",
    "# client.insert(\n",
    "#         collection_name=\"msmarco_bm25\",\n",
    "#         data=entities[start_index-batch_size:]\n",
    "#     )"
   ]
  },
  {
   "cell_type": "markdown",
   "metadata": {},
   "source": [
    "### Check"
   ]
  },
  {
   "cell_type": "code",
   "execution_count": 87,
   "metadata": {},
   "outputs": [
    {
     "data": {
      "text/plain": [
       "3895239"
      ]
     },
     "execution_count": 87,
     "metadata": {},
     "output_type": "execute_result"
    }
   ],
   "source": [
    "# collection 연결\n",
    "connections.connect(\"default\", host=\"localhost\", port=\"19530\")\n",
    "collection_name = \"msmarco_bm25\"\n",
    "collection = Collection(collection_name)\n",
    "\n",
    "# collection내의 entity 개수 확인\n",
    "collection.num_entities"
   ]
  },
  {
   "cell_type": "markdown",
   "metadata": {},
   "source": [
    "### Indexing"
   ]
  },
  {
   "cell_type": "code",
   "execution_count": 89,
   "metadata": {},
   "outputs": [],
   "source": [
    "######### Sparse Vector ##########\n",
    "\n",
    "index_params = MilvusClient.prepare_index_params()\n",
    "\n",
    "index_params.add_index(\n",
    "    field_name=\"sparse_vector\",\n",
    "    metric_type=\"IP\", # COSINE 유사도 활용\n",
    "    index_type=\"SPARSE_INVERTED_INDEX\", \n",
    "    index_name=\"sparse_index\"\n",
    ")\n",
    "\n",
    "client.create_index(\n",
    "    collection_name=\"msmarco_bm25\",\n",
    "    index_params=index_params\n",
    ")"
   ]
  },
  {
   "cell_type": "code",
   "execution_count": null,
   "metadata": {},
   "outputs": [],
   "source": []
  }
 ],
 "metadata": {
  "kernelspec": {
   "display_name": "nlp",
   "language": "python",
   "name": "python3"
  },
  "language_info": {
   "codemirror_mode": {
    "name": "ipython",
    "version": 3
   },
   "file_extension": ".py",
   "mimetype": "text/x-python",
   "name": "python",
   "nbconvert_exporter": "python",
   "pygments_lexer": "ipython3",
   "version": "3.10.10"
  }
 },
 "nbformat": 4,
 "nbformat_minor": 2
}
