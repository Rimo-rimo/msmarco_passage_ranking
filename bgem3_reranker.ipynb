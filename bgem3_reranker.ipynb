{
 "cells": [
  {
   "cell_type": "markdown",
   "metadata": {},
   "source": [
    "### Module"
   ]
  },
  {
   "cell_type": "code",
   "execution_count": 1,
   "metadata": {},
   "outputs": [],
   "source": [
    "from keybert import KeyBERT\n",
    "import pandas as pd\n",
    "from tqdm import tqdm\n",
    "import pickle\n",
    "from pymilvus import model\n",
    "from pymilvus import MilvusClient, Collection, connections, DataType, CollectionSchema, FieldSchema\n",
    "import numpy as np\n",
    "import json\n",
    "from FlagEmbedding import FlagReranker\n",
    "from pymilvus.model.reranker import BGERerankFunction\n",
    "import random\n",
    "random.seed(42)"
   ]
  },
  {
   "cell_type": "markdown",
   "metadata": {},
   "source": [
    "### Models"
   ]
  },
  {
   "cell_type": "code",
   "execution_count": 2,
   "metadata": {},
   "outputs": [
    {
     "data": {
      "application/vnd.jupyter.widget-view+json": {
       "model_id": "2eef7eaf384849ad99223c0a1c29dd8d",
       "version_major": 2,
       "version_minor": 0
      },
      "text/plain": [
       "Fetching 30 files:   0%|          | 0/30 [00:00<?, ?it/s]"
      ]
     },
     "metadata": {},
     "output_type": "display_data"
    }
   ],
   "source": [
    "bge_m3_ef = model.hybrid.BGEM3EmbeddingFunction(\n",
    "        model_name= \"BAAI/bge-m3\",\n",
    "        batch_size = 64,\n",
    "        device = \"cuda:0\",\n",
    "        # use_fp16 = True,\n",
    "        return_dense = True,\n",
    "        return_sparse = False,\n",
    "        return_colbert_vecs = False,\n",
    "    )\n",
    "\n",
    "bge_rf = BGERerankFunction(\n",
    "        model_name=\"./models/kw_3_easy_train\", \n",
    "        device=\"cuda:0\",\n",
    "        batch_size=32\n",
    "    )"
   ]
  },
  {
   "cell_type": "markdown",
   "metadata": {},
   "source": [
    "### Data setting"
   ]
  },
  {
   "cell_type": "code",
   "execution_count": 3,
   "metadata": {},
   "outputs": [],
   "source": [
    "client = MilvusClient()\n",
    "unique_query = pd.read_csv('./data/unique_query.csv')\n",
    "test_qrels = pd.read_csv(\"./data/test_qrels.tsv\", sep='\\t', names=['qid', 'r', 'pid', 'l'])\n",
    "test_qid = test_qrels[\"qid\"].tolist()"
   ]
  },
  {
   "cell_type": "markdown",
   "metadata": {},
   "source": [
    "### Retrieve"
   ]
  },
  {
   "cell_type": "code",
   "execution_count": 12,
   "metadata": {},
   "outputs": [
    {
     "name": "stderr",
     "output_type": "stream",
     "text": [
      " 10%|▉         | 132/1324 [01:41<14:54,  1.33it/s]"
     ]
    },
    {
     "name": "stdout",
     "output_type": "stream",
     "text": [
      "1082948\n"
     ]
    },
    {
     "name": "stderr",
     "output_type": "stream",
     "text": [
      " 11%|█▏        | 149/1324 [01:54<14:50,  1.32it/s]"
     ]
    },
    {
     "ename": "",
     "evalue": "",
     "output_type": "error",
     "traceback": [
      "\u001b[1;31m코드를 실행할 수 없습니다. 세션이 삭제되었습니다. 커널을 다시 시작해 보세요."
     ]
    },
    {
     "ename": "",
     "evalue": "",
     "output_type": "error",
     "traceback": [
      "\u001b[1;31m코드를 실행할 수 없습니다. 세션이 삭제되었습니다. 커널을 다시 시작해 보세요. \n",
      "\u001b[1;31m자세한 내용은 Jupyter <a href='command:jupyter.viewOutput'>로그</a>를 참조하세요."
     ]
    }
   ],
   "source": [
    "# 19분 소요\n",
    "result = []\n",
    "error_list = []\n",
    "\n",
    "for i in tqdm(range(len(test_qid))):\n",
    "    try:\n",
    "        qid = test_qid[i]\n",
    "        query = unique_query[unique_query[\"qid\"] == qid][\"query\"].tolist()[0]\n",
    "        # qid, query = unique_query.iloc[i][\"qid\"], unique_query.iloc[i][\"query\"]\n",
    "        query_vectors = bge_m3_ef.encode_queries([query])[\"dense\"]\n",
    "\n",
    "        candidate = client.search(\n",
    "            collection_name=\"msmarco_bgem3\",  # target collection\n",
    "            data=query_vectors,  # query vectors\n",
    "            limit=100,  # number of returned entities\n",
    "            # filter=f\"qid == {qid}\",\n",
    "            output_fields=[\"pid\",\"text\"],\n",
    "            anns_field=\"dense_vector\"\n",
    "        )\n",
    "        candidate_text = [i[\"entity\"][\"text\"] for i in candidate[0]]\n",
    "        candidate_pid = np.array([i[\"entity\"][\"pid\"] for i in candidate[0]])\n",
    "\n",
    "        top_k = bge_rf(\n",
    "            query=query,\n",
    "            documents=candidate_text,\n",
    "            top_k=100,\n",
    "        )\n",
    "        for n,k in enumerate(top_k):\n",
    "            result.append([qid, candidate_pid[k.index], n+1])\n",
    "\n",
    "    except:\n",
    "        error_list.append(qid)\n",
    "        print(qid)\n"
   ]
  },
  {
   "cell_type": "code",
   "execution_count": 10,
   "metadata": {},
   "outputs": [],
   "source": [
    "result_df = pd.DataFrame(result)\n",
    "\n",
    "tsv_file_path = 'result/bgem3_reranker.tsv'\n",
    "result_df.to_csv(tsv_file_path, sep='\\t', index=False)"
   ]
  },
  {
   "cell_type": "code",
   "execution_count": null,
   "metadata": {},
   "outputs": [],
   "source": []
  },
  {
   "cell_type": "code",
   "execution_count": 8,
   "metadata": {},
   "outputs": [
    {
     "data": {
      "text/plain": [
       "[' Androgen receptor define',\n",
       " '3 levels of government in canada and their responsibilities',\n",
       " '3/5 of 60',\n",
       " '60x40 slab cost',\n",
       " 'Bethel University was founded in what year',\n",
       " 'Does Suddenlink Carry ESPN3',\n",
       " 'Explain what a bone scan is and what it is used for.',\n",
       " 'Is the Louisiana sales tax 4.75',\n",
       " 'Ludacris Net Worth',\n",
       " 'Sony PS-LX300USB how to connect to pc',\n",
       " 'The hormone that does the opposite of calcitonin is',\n",
       " 'What Does Noel Mean in the Bible',\n",
       " 'When did the earthquake hit San Francisco during the World Series',\n",
       " '_____ is the ability of cardiac pacemaker cells to spontaneously initiate an electrical impulse without being stimulated from another source, such as a nerve.',\n",
       " '_____ is the name used to refer to the era of legalized segregation in the united states',\n",
       " '_______ is a fuel produced by fermenting crops.',\n",
       " '________ disparity refers to the slightly different view of the world that each eye receives.cyclopeanbinocularmonoculartrichromatic',\n",
       " '____________________ is considered the father of modern medicine.',\n",
       " 'a simple definition for the word bias.',\n",
       " 'about how many fans does mexico soccer team',\n",
       " 'academic cheating definition',\n",
       " 'accelerated cml symptoms',\n",
       " 'access parallels cost',\n",
       " 'access, how to go to most recent record',\n",
       " 'accordian definition',\n",
       " 'actress who plays alice on the magicians',\n",
       " 'actress who turned down pretty woman & ghost',\n",
       " 'acute myelogenous leukemia age',\n",
       " 'advanced aerospace engineering salary',\n",
       " 'age and weight requirements for children to sit in the front seat',\n",
       " 'age discrimination in the workplace cases',\n",
       " 'age not to take off shoes at airline security',\n",
       " 'age requirements for name change',\n",
       " 'airport code mont tremblant',\n",
       " 'airport outfit',\n",
       " 'al baik food houston',\n",
       " 'alabama central credit union routing number',\n",
       " 'aldridge pite melville ny telephone number',\n",
       " 'alexia medical definition',\n",
       " 'all of the following were created by the first congress in 1789',\n",
       " 'american car museum in tacoma wa',\n",
       " 'american translators association how to study',\n",
       " 'amount of bleach needed to make disinfectant',\n",
       " 'amp definition',\n",
       " 'an eating disorder is characterized by _____.',\n",
       " 'an increase of adh causes the kidneys to ________ the reabsorption of water, causing them to produce _______ urine.',\n",
       " 'anatomy origin definition',\n",
       " 'anchor hocking phone number',\n",
       " 'aneca federal credit union routing number',\n",
       " 'another name for freestanding sculpture is ________.',\n",
       " 'another name for reaper',\n",
       " 'antithesis definition and examples',\n",
       " 'anxiety: definition',\n",
       " 'aplastic anemia causes and symptoms',\n",
       " 'approximately how many moons does uranus have',\n",
       " 'aqsarniit meaning',\n",
       " 'arbitrage definition',\n",
       " 'architectural design',\n",
       " 'are a category of sugars that contain either one or two molecules',\n",
       " 'are bequests taxable',\n",
       " 'are chia seeds safe to eat pregnant',\n",
       " 'are cold sores and fever blisters the same',\n",
       " 'are comic books considered a genre',\n",
       " 'are concierge medical fees tax deductible',\n",
       " 'are corn snakes poisonous',\n",
       " 'are cycling shoes necessary',\n",
       " 'are eggs or grapes better to fight colds',\n",
       " 'are florida mangroves protected',\n",
       " 'are giraffes the tallest mammals on earth',\n",
       " 'are herpes contagious',\n",
       " 'are kegels necessary',\n",
       " 'are land grading costs deductible',\n",
       " 'are parents allowed to spank children',\n",
       " 'are premature roth ira distributions taxable',\n",
       " 'are schwann cells are glial cells of the central nervous system',\n",
       " 'are snails good for plants',\n",
       " 'are sore throats contagious',\n",
       " 'are spasms harmful',\n",
       " 'are tesla electric cars',\n",
       " 'are the chemicals in instant coffee?',\n",
       " 'are there allergy drops for your ear congestion',\n",
       " 'are there bad side effects of htp',\n",
       " 'are vets considered doctors',\n",
       " 'are wild hogs good eating',\n",
       " 'are you overweight for your age',\n",
       " 'argue the meaning of a debate',\n",
       " 'armenian translation to english',\n",
       " 'array definition computer',\n",
       " 'associates degree is how many credits?',\n",
       " 'asus phones price list',\n",
       " 'at what age can a kitten',\n",
       " 'at what age do kittens get their first shots',\n",
       " 'at what age does a colt become fertile',\n",
       " 'at what age does the average person retire',\n",
       " 'at what temperature is rump roast done',\n",
       " 'at what temperature should cooling fans start',\n",
       " 'at$t customer service number',\n",
       " 'att email toll free number',\n",
       " 'auger defined',\n",
       " 'authors definition']"
      ]
     },
     "execution_count": 8,
     "metadata": {},
     "output_type": "execute_result"
    }
   ],
   "source": [
    "query = unique_query[\"query\"].tolist()[0:100]\n",
    "query"
   ]
  },
  {
   "cell_type": "code",
   "execution_count": 9,
   "metadata": {},
   "outputs": [
    {
     "data": {
      "text/plain": [
       "[array([ 0.01229456, -0.0285839 ,  0.00026209, ...,  0.01170966,\n",
       "        -0.05474449,  0.03620829], dtype=float32),\n",
       " array([ 0.02562712, -0.00611602, -0.02199598, ...,  0.01604042,\n",
       "         0.0076088 , -0.03495618], dtype=float32),\n",
       " array([ 0.00285246,  0.00149539, -0.06758212, ..., -0.0204071 ,\n",
       "         0.02017461, -0.01204825], dtype=float32),\n",
       " array([-0.04419862, -0.00739527, -0.03273088, ..., -0.04458462,\n",
       "         0.00706671,  0.07837474], dtype=float32),\n",
       " array([-0.01665251,  0.00897697,  0.01971322, ..., -0.00369375,\n",
       "         0.01407065,  0.02688692], dtype=float32),\n",
       " array([-0.06936234, -0.01865093, -0.01795062, ...,  0.01110846,\n",
       "        -0.01361303,  0.03744141], dtype=float32),\n",
       " array([ 0.01577861,  0.00223051, -0.08699854, ..., -0.01199264,\n",
       "         0.05077625, -0.02666679], dtype=float32),\n",
       " array([-0.02100987, -0.0058685 , -0.05266322, ..., -0.02853285,\n",
       "        -0.05244388,  0.03993858], dtype=float32),\n",
       " array([-0.04774194,  0.0484274 , -0.01176151, ...,  0.00623611,\n",
       "        -0.02122091,  0.01658487], dtype=float32),\n",
       " array([-0.04729332,  0.0111927 , -0.035591  , ..., -0.01329447,\n",
       "        -0.03978648,  0.01004702], dtype=float32),\n",
       " array([ 0.02777095, -0.00900319, -0.04324371, ...,  0.03791414,\n",
       "         0.01797523, -0.01405384], dtype=float32),\n",
       " array([-0.03421269, -0.01308294, -0.0218127 , ..., -0.03759404,\n",
       "        -0.05481321,  0.0027618 ], dtype=float32),\n",
       " array([-0.00233353, -0.00907192, -0.05651546, ...,  0.0071123 ,\n",
       "        -0.02011504, -0.01635286], dtype=float32),\n",
       " array([-0.02892038, -0.00355412, -0.02039937, ..., -0.01995532,\n",
       "        -0.0274556 ,  0.00267969], dtype=float32),\n",
       " array([ 0.02970403, -0.01471969, -0.03828697, ..., -0.01237463,\n",
       "        -0.02434894,  0.02284672], dtype=float32),\n",
       " array([ 0.02459752,  0.00113764, -0.00600163, ...,  0.03625698,\n",
       "        -0.02032005,  0.05924595], dtype=float32),\n",
       " array([ 0.00296446, -0.01430677, -0.03278819, ..., -0.0143445 ,\n",
       "        -0.0005158 ,  0.00238706], dtype=float32),\n",
       " array([-0.00570587,  0.0210617 , -0.01717468, ..., -0.02737894,\n",
       "        -0.00130426, -0.01851519], dtype=float32),\n",
       " array([-0.0343591 , -0.00664507, -0.06573022, ..., -0.03131643,\n",
       "        -0.00454093, -0.02602141], dtype=float32),\n",
       " array([ 0.00616509, -0.05259356, -0.05841063, ...,  0.05085374,\n",
       "        -0.02194386,  0.01480046], dtype=float32),\n",
       " array([-0.03481888, -0.04199966, -0.01907546, ..., -0.0281877 ,\n",
       "        -0.04346647,  0.02663639], dtype=float32),\n",
       " array([ 0.01895768,  0.01377989, -0.03548572, ..., -0.00838816,\n",
       "        -0.03582937,  0.01885244], dtype=float32),\n",
       " array([-0.01260898,  0.01535052, -0.0208481 , ...,  0.01589972,\n",
       "        -0.0359491 ,  0.05531818], dtype=float32),\n",
       " array([ 0.00523418,  0.00787191, -0.04987169, ..., -0.04194783,\n",
       "        -0.02262539, -0.05644312], dtype=float32),\n",
       " array([ 0.05110652, -0.04215266, -0.07519762, ..., -0.00332537,\n",
       "        -0.0344879 ,  0.01183567], dtype=float32),\n",
       " array([-0.01753301, -0.00238639, -0.02345931, ..., -0.01312956,\n",
       "        -0.0467015 ,  0.03348931], dtype=float32),\n",
       " array([ 0.00129924,  0.02919621, -0.02318195, ..., -0.02668028,\n",
       "        -0.0443371 ,  0.06514511], dtype=float32),\n",
       " array([ 0.00473512, -0.01622271, -0.01970999, ..., -0.00981751,\n",
       "        -0.00795256, -0.01454929], dtype=float32),\n",
       " array([-2.6298791e-02,  1.0423404e-05,  9.0595717e-03, ...,\n",
       "         2.4730872e-02, -2.9306609e-02,  2.7367661e-02], dtype=float32),\n",
       " array([ 0.01997714, -0.04858505, -0.05369994, ...,  0.00675422,\n",
       "        -0.01692173,  0.00759439], dtype=float32),\n",
       " array([-0.01467166,  0.01234212, -0.04116075, ..., -0.00411026,\n",
       "         0.01483575, -0.00830171], dtype=float32),\n",
       " array([ 0.02105155,  0.00684897, -0.08030019, ..., -0.01823665,\n",
       "        -0.01995336,  0.01511778], dtype=float32),\n",
       " array([ 0.00339165, -0.029083  , -0.05189174, ..., -0.03354617,\n",
       "        -0.00130329,  0.01861965], dtype=float32),\n",
       " array([ 0.00273297,  0.00617819, -0.04742334, ..., -0.01957787,\n",
       "        -0.02720188, -0.00491525], dtype=float32),\n",
       " array([-0.03226652, -0.0001803 , -0.05404125, ..., -0.00103947,\n",
       "        -0.04850608, -0.01176715], dtype=float32),\n",
       " array([ 0.02022747, -0.03443046, -0.02876778, ...,  0.06125881,\n",
       "        -0.00966178,  0.01529728], dtype=float32),\n",
       " array([-0.03347521, -0.03909306, -0.03408824, ..., -0.00132194,\n",
       "         0.03700465, -0.00103723], dtype=float32),\n",
       " array([-0.04430527,  0.00082509, -0.03221536, ..., -0.00580906,\n",
       "         0.02205861,  0.03403535], dtype=float32),\n",
       " array([-0.02718325, -0.02836278, -0.03647697, ...,  0.03684417,\n",
       "        -0.05952121,  0.01089173], dtype=float32),\n",
       " array([ 0.00908007,  0.0287743 , -0.03022929, ...,  0.03709673,\n",
       "        -0.00061169, -0.01023916], dtype=float32),\n",
       " array([-0.00076673, -0.06509749, -0.04281149, ...,  0.03456177,\n",
       "        -0.03509502, -0.02020712], dtype=float32),\n",
       " array([-0.02792046, -0.01812838, -0.00489562, ..., -0.01676493,\n",
       "        -0.00052756,  0.03072908], dtype=float32),\n",
       " array([ 0.00114091, -0.01624995, -0.04343421, ..., -0.02011251,\n",
       "        -0.04274753,  0.02941816], dtype=float32),\n",
       " array([ 0.01080261, -0.02710254, -0.01575856, ...,  0.00476924,\n",
       "        -0.03778467, -0.00087486], dtype=float32),\n",
       " array([-0.00311362, -0.0171753 , -0.02447067, ...,  0.01694853,\n",
       "        -0.0238604 ,  0.00624628], dtype=float32),\n",
       " array([ 0.03677562,  0.03881218, -0.05737182, ...,  0.01975285,\n",
       "        -0.0203387 ,  0.01948624], dtype=float32),\n",
       " array([ 0.02974287, -0.02287077, -0.01466529, ...,  0.01561019,\n",
       "        -0.00384353, -0.04991182], dtype=float32),\n",
       " array([-2.6589258e-02, -4.2606860e-02, -1.3589993e-02, ...,\n",
       "         1.9093182e-02,  3.7471518e-02, -6.3782762e-05], dtype=float32),\n",
       " array([-0.04114884, -0.0101998 , -0.00239585, ...,  0.00312854,\n",
       "        -0.00279644,  0.02630385], dtype=float32),\n",
       " array([-0.00738194,  0.00979371, -0.04376286, ..., -0.04640914,\n",
       "        -0.04837042,  0.03554204], dtype=float32),\n",
       " array([-0.02817987,  0.01775561, -0.04795424, ..., -0.00130888,\n",
       "        -0.02887136,  0.02606124], dtype=float32),\n",
       " array([ 0.04888238,  0.01205222, -0.01927431, ..., -0.02866029,\n",
       "        -0.03631014, -0.06100048], dtype=float32),\n",
       " array([ 0.01935672, -0.04359264, -0.02694885, ..., -0.02833109,\n",
       "        -0.01995655, -0.01760284], dtype=float32),\n",
       " array([ 0.03162629, -0.00908755, -0.01839334, ...,  0.05013897,\n",
       "        -0.04119799, -0.04086003], dtype=float32),\n",
       " array([ 0.02527032,  0.0227824 , -0.05782086, ...,  0.01252394,\n",
       "         0.00156959, -0.01004856], dtype=float32),\n",
       " array([-0.00268144, -0.0281198 , -0.05640797, ...,  0.05347973,\n",
       "         0.031106  , -0.03556618], dtype=float32),\n",
       " array([ 0.06385589, -0.00880081,  0.00131394, ..., -0.04042033,\n",
       "         0.00689355, -0.02452237], dtype=float32),\n",
       " array([-0.05014748,  0.00968909,  0.01002562, ...,  0.02152248,\n",
       "         0.00673291,  0.02240248], dtype=float32),\n",
       " array([-0.05214408, -0.0195985 , -0.0009994 , ...,  0.04281452,\n",
       "         0.03393223, -0.00187051], dtype=float32),\n",
       " array([-0.01675799, -0.00612856, -0.0082732 , ..., -0.02271803,\n",
       "        -0.031482  , -0.01417772], dtype=float32),\n",
       " array([-0.00726146, -0.00713956, -0.04116814, ...,  0.01756289,\n",
       "        -0.0135254 ,  0.00473359], dtype=float32),\n",
       " array([ 0.00137735, -0.03186789, -0.04424958, ...,  0.02441669,\n",
       "        -0.04789266, -0.01918169], dtype=float32),\n",
       " array([-0.04595145, -0.03605261,  0.00271419, ..., -0.01062989,\n",
       "        -0.03181855,  0.03182418], dtype=float32),\n",
       " array([-0.02234299, -0.04264054, -0.01537416, ...,  0.00797796,\n",
       "        -0.06660999, -0.01671235], dtype=float32),\n",
       " array([-0.01675949,  0.00575418, -0.01779342, ..., -0.0120175 ,\n",
       "        -0.0338038 ,  0.01754156], dtype=float32),\n",
       " array([-0.01386703,  0.00599787, -0.09337891, ...,  0.00335559,\n",
       "        -0.03681076,  0.0399853 ], dtype=float32),\n",
       " array([ 0.01603339, -0.02836812, -0.01394696, ..., -0.00775928,\n",
       "        -0.01123278, -0.01254121], dtype=float32),\n",
       " array([-0.0182878 , -0.00811398,  0.0040984 , ...,  0.01236978,\n",
       "        -0.02550092,  0.04279144], dtype=float32),\n",
       " array([-0.0354646 ,  0.0153155 , -0.01612448, ..., -0.02629307,\n",
       "        -0.05050716,  0.00766835], dtype=float32),\n",
       " array([-0.05669355, -0.00373212, -0.06247754, ...,  0.01257387,\n",
       "         0.00840077,  0.01785549], dtype=float32),\n",
       " array([-0.02526806,  0.02905277, -0.05609427, ..., -0.01141471,\n",
       "        -0.0352838 ,  0.03306744], dtype=float32),\n",
       " array([-0.07039246, -0.00775224,  0.01207859, ..., -0.0507014 ,\n",
       "         0.00208509,  0.01494285], dtype=float32),\n",
       " array([ 0.01615256, -0.00497665, -0.02556838, ..., -0.02483368,\n",
       "        -0.01136495,  0.00120112], dtype=float32),\n",
       " array([-0.02888992,  0.00742766,  0.00740984, ..., -0.04568063,\n",
       "        -0.07695834, -0.01273903], dtype=float32),\n",
       " array([-0.07130931, -0.0136577 , -0.04523381, ..., -0.04537643,\n",
       "         0.01379129,  0.00562302], dtype=float32),\n",
       " array([-0.07503484, -0.01108378, -0.0209248 , ..., -0.05238985,\n",
       "        -0.06856658, -0.00923994], dtype=float32),\n",
       " array([-0.0151864 , -0.02015739, -0.03631245, ...,  0.00021151,\n",
       "        -0.02262206, -0.03014989], dtype=float32),\n",
       " array([ 0.05932069,  0.01469456, -0.03681098, ..., -0.01206415,\n",
       "         0.00570743,  0.03498057], dtype=float32),\n",
       " array([-0.02979444, -0.04236856,  0.02219875, ...,  0.02347229,\n",
       "        -0.03630887,  0.00926577], dtype=float32),\n",
       " array([ 0.01350212, -0.01862358,  0.00645029, ...,  0.02967597,\n",
       "        -0.038558  ,  0.01946728], dtype=float32),\n",
       " array([ 0.02477897, -0.02394705, -0.01790311, ..., -0.00495697,\n",
       "        -0.02177186, -0.01818583], dtype=float32),\n",
       " array([-0.00165634, -0.00422092, -0.03156671, ..., -0.00679247,\n",
       "        -0.02818171, -0.00847097], dtype=float32),\n",
       " array([-0.03750497, -0.03818527, -0.02898499, ..., -0.0173371 ,\n",
       "        -0.0043532 ,  0.02268483], dtype=float32),\n",
       " array([-0.01000539, -0.01863894, -0.04935915, ..., -0.00479959,\n",
       "        -0.02803987,  0.00881208], dtype=float32),\n",
       " array([ 0.01178564, -0.00735103, -0.06068826, ..., -0.03564877,\n",
       "        -0.01228064,  0.02914272], dtype=float32),\n",
       " array([ 0.00684164, -0.00256122, -0.00908451, ..., -0.03757066,\n",
       "         0.01513825,  0.00110373], dtype=float32),\n",
       " array([ 0.02375343, -0.03383909,  0.00390471, ...,  0.00768033,\n",
       "        -0.06886222,  0.0077338 ], dtype=float32),\n",
       " array([ 0.01551656, -0.03057659, -0.04847698, ..., -0.01117419,\n",
       "         0.02783211,  0.03666779], dtype=float32),\n",
       " array([-0.05463671, -0.022315  ,  0.01585849, ...,  0.00260733,\n",
       "        -0.03282479,  0.0380164 ], dtype=float32),\n",
       " array([-0.02062761, -0.03028982, -0.07363804, ...,  0.0160019 ,\n",
       "         0.0210654 , -0.01721078], dtype=float32),\n",
       " array([ 0.01494738,  0.0081244 , -0.0277401 , ..., -0.02726538,\n",
       "        -0.022572  ,  0.01549261], dtype=float32),\n",
       " array([-0.00617739, -0.00361579, -0.03978473, ...,  0.00270303,\n",
       "        -0.00890139,  0.02166087], dtype=float32),\n",
       " array([-0.0273349 ,  0.00099302, -0.02832714, ..., -0.02811513,\n",
       "         0.01137259,  0.02697476], dtype=float32),\n",
       " array([ 0.00744988,  0.00030026, -0.05887718, ..., -0.04615577,\n",
       "        -0.0339867 , -0.0016845 ], dtype=float32),\n",
       " array([ 0.00458385, -0.02008605, -0.01128647, ..., -0.04381878,\n",
       "        -0.00305132,  0.0487278 ], dtype=float32),\n",
       " array([ 0.02506781, -0.00483278, -0.05583173, ..., -0.00532302,\n",
       "         0.006979  ,  0.03392142], dtype=float32),\n",
       " array([-0.00530581, -0.01199831, -0.04709764, ..., -0.01932012,\n",
       "        -0.01793244, -0.04499794], dtype=float32),\n",
       " array([-0.02118462,  0.0026982 , -0.00651595, ..., -0.00955208,\n",
       "        -0.01580751, -0.03977752], dtype=float32),\n",
       " array([-0.00895409, -0.02011699, -0.05937132, ...,  0.00725221,\n",
       "        -0.0179846 , -0.04459116], dtype=float32),\n",
       " array([ 0.00097646, -0.04044184, -0.01521631, ...,  0.00424725,\n",
       "        -0.039068  , -0.0536248 ], dtype=float32)]"
      ]
     },
     "execution_count": 9,
     "metadata": {},
     "output_type": "execute_result"
    }
   ],
   "source": [
    "query_vectors = bge_m3_ef.encode_queries(query)[\"dense\"]\n",
    "query_vectors"
   ]
  },
  {
   "cell_type": "code",
   "execution_count": 10,
   "metadata": {},
   "outputs": [
    {
     "name": "stderr",
     "output_type": "stream",
     "text": [
      "100%|██████████| 100/100 [00:49<00:00,  2.00it/s]\n"
     ]
    }
   ],
   "source": [
    "for i in tqdm(query_vectors):\n",
    "    candidate = client.search(\n",
    "            collection_name=\"msmarco_bgem3\",  # target collection\n",
    "            data=[i],  # query vectors\n",
    "            limit=100,  # number of returned entities\n",
    "            output_fields=[\"pid\",\"text\"],\n",
    "            anns_field=\"dense_vector\"\n",
    "        )"
   ]
  },
  {
   "cell_type": "code",
   "execution_count": 11,
   "metadata": {},
   "outputs": [],
   "source": [
    "candidate = client.search(\n",
    "            collection_name=\"msmarco_bgem3\",  # target collection\n",
    "            data=query_vectors,  # query vectors\n",
    "            limit=100,  # number of returned entities\n",
    "            output_fields=[\"pid\",\"text\"],\n",
    "            anns_field=\"dense_vector\"\n",
    "        )"
   ]
  },
  {
   "cell_type": "code",
   "execution_count": 28,
   "metadata": {},
   "outputs": [
    {
     "data": {
      "text/plain": [
       "100"
      ]
     },
     "execution_count": 28,
     "metadata": {},
     "output_type": "execute_result"
    }
   ],
   "source": [
    "len(candidate[0])"
   ]
  },
  {
   "cell_type": "code",
   "execution_count": null,
   "metadata": {},
   "outputs": [],
   "source": [
    "# # 19분 소요 버전\n",
    "# result = []\n",
    "# error_list = []\n",
    "\n",
    "# for i in tqdm(range(len(test_qid))):\n",
    "#     try:\n",
    "#         qid = test_qid[i]\n",
    "#         query = unique_query[unique_query[\"qid\"] == qid][\"query\"].tolist()[0]\n",
    "#         # qid, query = unique_query.iloc[i][\"qid\"], unique_query.iloc[i][\"query\"]\n",
    "#         query_vectors = bge_m3_ef.encode_queries([query])[\"dense\"]\n",
    "\n",
    "#         candidate = client.search(\n",
    "#             collection_name=\"msmarco_bgem3\",  # target collection\n",
    "#             data=query_vectors,  # query vectors\n",
    "#             limit=100,  # number of returned entities\n",
    "#             # filter=f\"qid == {qid}\",\n",
    "#             output_fields=[\"pid\",\"text\"],\n",
    "#             anns_field=\"dense_vector\"\n",
    "#         )\n",
    "#         candidate_text = [i[\"entity\"][\"text\"] for i in candidate[0]]\n",
    "#         candidate_pid = np.array([i[\"entity\"][\"pid\"] for i in candidate[0]])\n",
    "\n",
    "#         top_k = bge_rf(\n",
    "#             query=query,\n",
    "#             documents=candidate_text,\n",
    "#             top_k=100,\n",
    "#         )\n",
    "#         for n,i in enumerate(top_k):\n",
    "#             result.append([qid, candidate_pid[i.index], n+1])\n",
    "#         break\n",
    "\n",
    "#     except:\n",
    "#         error_list.append(qid)\n",
    "#         print(qid)\n"
   ]
  }
 ],
 "metadata": {
  "kernelspec": {
   "display_name": "nlp",
   "language": "python",
   "name": "python3"
  },
  "language_info": {
   "codemirror_mode": {
    "name": "ipython",
    "version": 3
   },
   "file_extension": ".py",
   "mimetype": "text/x-python",
   "name": "python",
   "nbconvert_exporter": "python",
   "pygments_lexer": "ipython3",
   "version": "3.10.10"
  }
 },
 "nbformat": 4,
 "nbformat_minor": 2
}
