{
 "cells": [
  {
   "cell_type": "markdown",
   "metadata": {},
   "source": [
    "### Module"
   ]
  },
  {
   "cell_type": "code",
   "execution_count": 1,
   "metadata": {},
   "outputs": [],
   "source": [
    "from keybert import KeyBERT\n",
    "import pandas as pd\n",
    "from tqdm import tqdm\n",
    "import pickle\n",
    "from pymilvus import model\n",
    "from pymilvus import MilvusClient, Collection, connections, DataType, CollectionSchema, FieldSchema\n",
    "import numpy as np\n",
    "import json\n",
    "from FlagEmbedding import FlagReranker\n",
    "from pymilvus.model.reranker import BGERerankFunction\n",
    "import random\n",
    "random.seed(42)"
   ]
  },
  {
   "cell_type": "markdown",
   "metadata": {},
   "source": [
    "### Models"
   ]
  },
  {
   "cell_type": "code",
   "execution_count": null,
   "metadata": {},
   "outputs": [
    {
     "data": {
      "application/vnd.jupyter.widget-view+json": {
       "model_id": "d3bea2b5300b4de98e5562b7455a7d88",
       "version_major": 2,
       "version_minor": 0
      },
      "text/plain": [
       "Fetching 30 files:   0%|          | 0/30 [00:00<?, ?it/s]"
      ]
     },
     "metadata": {},
     "output_type": "display_data"
    }
   ],
   "source": [
    "bge_m3_ef = model.hybrid.BGEM3EmbeddingFunction(\n",
    "        model_name= \"BAAI/bge-m3\",\n",
    "        batch_size = 64,\n",
    "        device = \"cuda:0\",\n",
    "        # use_fp16 = True,\n",
    "        return_dense = True,\n",
    "        return_sparse = False,\n",
    "        return_colbert_vecs = False,\n",
    "    )\n",
    "\n",
    "bge_rf = BGERerankFunction(\n",
    "        model_name=\"./models/kw_3_easy_train\", \n",
    "        device=\"cuda:0\",\n",
    "        batch_size=32\n",
    "    )"
   ]
  },
  {
   "cell_type": "markdown",
   "metadata": {},
   "source": [
    "### Data setting"
   ]
  },
  {
   "cell_type": "code",
   "execution_count": null,
   "metadata": {},
   "outputs": [],
   "source": [
    "client = MilvusClient()\n",
    "client.load_collection(\"msmarco_bgem3\")\n",
    "unique_query = pd.read_csv('./data/unique_query.csv')\n",
    "test_qrels = pd.read_csv(\"./data/test_qrels.tsv\", sep='\\t', names=['qid', 'r', 'pid', 'l'])\n",
    "test_qid = test_qrels[\"qid\"].tolist()"
   ]
  },
  {
   "cell_type": "markdown",
   "metadata": {},
   "source": [
    "### Retrieve"
   ]
  },
  {
   "cell_type": "code",
   "execution_count": null,
   "metadata": {},
   "outputs": [
    {
     "name": "stderr",
     "output_type": "stream",
     "text": [
      "  0%|          | 0/1324 [00:00<?, ?it/s]"
     ]
    },
    {
     "name": "stderr",
     "output_type": "stream",
     "text": [
      "  1%|          | 12/1324 [00:09<16:54,  1.29it/s]"
     ]
    }
   ],
   "source": [
    "# 19분 소요\n",
    "result = []\n",
    "error_list = []\n",
    "\n",
    "for i in tqdm(range(len(test_qid))):\n",
    "    try:\n",
    "        qid = test_qid[i]\n",
    "        query = unique_query[unique_query[\"qid\"] == qid][\"query\"].tolist()[0]\n",
    "        # qid, query = unique_query.iloc[i][\"qid\"], unique_query.iloc[i][\"query\"]\n",
    "        query_vectors = bge_m3_ef.encode_queries([query])[\"dense\"]\n",
    "\n",
    "        candidate = client.search(\n",
    "            collection_name=\"msmarco_bgem3\",  # target collection\n",
    "            data=query_vectors,  # query vectors\n",
    "            limit=100,  # number of returned entities\n",
    "            output_fields=[\"pid\",\"text\"],\n",
    "            anns_field=\"dense_vector\"\n",
    "        )\n",
    "        candidate_text = [i[\"entity\"][\"text\"] for i in candidate[0]]\n",
    "        candidate_pid = np.array([i[\"entity\"][\"pid\"] for i in candidate[0]])\n",
    "\n",
    "        top_k = bge_rf(\n",
    "            query=query,\n",
    "            documents=candidate_text,\n",
    "            top_k=100,\n",
    "        )\n",
    "        for n,k in enumerate(top_k):\n",
    "            result.append([qid, candidate_pid[k.index], n+1])\n",
    "\n",
    "    except:\n",
    "        error_list.append(qid)\n",
    "        print(qid)\n"
   ]
  },
  {
   "cell_type": "code",
   "execution_count": null,
   "metadata": {},
   "outputs": [],
   "source": [
    "result_df = pd.DataFrame(result)\n",
    "\n",
    "tsv_file_path = 'result/bgem3_reranker.tsv'\n",
    "result_df.to_csv(tsv_file_path, sep='\\t', index=False)"
   ]
  },
  {
   "cell_type": "code",
   "execution_count": null,
   "metadata": {},
   "outputs": [],
   "source": []
  },
  {
   "cell_type": "code",
   "execution_count": null,
   "metadata": {},
   "outputs": [],
   "source": [
    "# # 19분 소요 버전\n",
    "# result = []\n",
    "# error_list = []\n",
    "\n",
    "# for i in tqdm(range(len(test_qid))):\n",
    "#     try:\n",
    "#         qid = test_qid[i]\n",
    "#         query = unique_query[unique_query[\"qid\"] == qid][\"query\"].tolist()[0]\n",
    "#         # qid, query = unique_query.iloc[i][\"qid\"], unique_query.iloc[i][\"query\"]\n",
    "#         query_vectors = bge_m3_ef.encode_queries([query])[\"dense\"]\n",
    "\n",
    "#         candidate = client.search(\n",
    "#             collection_name=\"msmarco_bgem3\",  # target collection\n",
    "#             data=query_vectors,  # query vectors\n",
    "#             limit=100,  # number of returned entities\n",
    "#             # filter=f\"qid == {qid}\",\n",
    "#             output_fields=[\"pid\",\"text\"],\n",
    "#             anns_field=\"dense_vector\"\n",
    "#         )\n",
    "#         candidate_text = [i[\"entity\"][\"text\"] for i in candidate[0]]\n",
    "#         candidate_pid = np.array([i[\"entity\"][\"pid\"] for i in candidate[0]])\n",
    "\n",
    "#         top_k = bge_rf(\n",
    "#             query=query,\n",
    "#             documents=candidate_text,\n",
    "#             top_k=100,\n",
    "#         )\n",
    "#         for n,i in enumerate(top_k):\n",
    "#             result.append([qid, candidate_pid[i.index], n+1])\n",
    "#         break\n",
    "\n",
    "#     except:\n",
    "#         error_list.append(qid)\n",
    "#         print(qid)\n"
   ]
  }
 ],
 "metadata": {
  "kernelspec": {
   "display_name": "nlp",
   "language": "python",
   "name": "python3"
  },
  "language_info": {
   "codemirror_mode": {
    "name": "ipython",
    "version": 3
   },
   "file_extension": ".py",
   "mimetype": "text/x-python",
   "name": "python",
   "nbconvert_exporter": "python",
   "pygments_lexer": "ipython3",
   "version": "3.10.10"
  }
 },
 "nbformat": 4,
 "nbformat_minor": 2
}
